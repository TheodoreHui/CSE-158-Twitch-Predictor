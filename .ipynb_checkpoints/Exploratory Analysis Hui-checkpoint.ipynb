{
 "cells": [
  {
   "cell_type": "code",
   "execution_count": 68,
   "id": "7570edfe",
   "metadata": {},
   "outputs": [],
   "source": [
    "import numpy as np\n",
    "import gzip\n",
    "import sklearn\n",
    "import pandas as pd\n",
    "import seaborn as sns"
   ]
  },
  {
   "cell_type": "code",
   "execution_count": 32,
   "id": "2c73d5a2",
   "metadata": {},
   "outputs": [],
   "source": [
    "data = pd.read_csv(\"100k_a.csv\", names = ['User_ID', 'Stream_ID', 'Streamer', 'Time_Start', 'Time_Stop'])\n",
    "data['Time_Stop'] = data['Time_Stop'] / 6\n",
    "data['Time_Start'] = data['Time_Start'] / 6\n",
    "data['Length (hr)'] = (data['Time_Stop'] - data['Time_Start'])\n"
   ]
  },
  {
   "cell_type": "code",
   "execution_count": 39,
   "id": "cd663dfa",
   "metadata": {},
   "outputs": [],
   "source": [
    "data['Day_Start'] = data['Time_Start'] // 24\n",
    "data['Day_Stop'] = data['Time_Stop'] // 24\n",
    "data['Hr_Start'] = data['Time_Start'] % 24\n",
    "data['Hr_Stop'] = data['Time_Stop'] % 24\n"
   ]
  },
  {
   "cell_type": "code",
   "execution_count": 151,
   "id": "fc749a2b",
   "metadata": {},
   "outputs": [
    {
     "data": {
      "text/plain": [
       "User_ID       0.000391\n",
       "Stream_ID     0.000391\n",
       "Streamer      0.000391\n",
       "Time_Start    0.000391\n",
       "Time_Stop     0.000391\n",
       "Length        0.000391\n",
       "Hr_Start      0.000391\n",
       "Hr_Stop       0.000391\n",
       "Day_Start     0.000391\n",
       "Day_Stop      0.000391\n",
       "dtype: float64"
      ]
     },
     "execution_count": 151,
     "metadata": {},
     "output_type": "execute_result"
    }
   ],
   "source": [
    "data[data['Streamer'] == 'hasanabi'].count()/data.shape[0]"
   ]
  },
  {
   "cell_type": "code",
   "execution_count": 158,
   "id": "0d0a29fd",
   "metadata": {},
   "outputs": [
    {
     "data": {
      "text/plain": [
       "0.9999999999999999"
      ]
     },
     "execution_count": 158,
     "metadata": {},
     "output_type": "execute_result"
    }
   ],
   "source": [
    "ranked = (data.groupby('Streamer').count().sort_values('User_ID', ascending = False)['User_ID']/data.shape[0]).rename('Prop')#.reset_index()\n",
    "(ranked).sum()"
   ]
  },
  {
   "cell_type": "code",
   "execution_count": 156,
   "id": "e0ef5d1c",
   "metadata": {},
   "outputs": [
    {
     "data": {
      "text/plain": [
       "Streamer\n",
       "ninja            1.479291e-02\n",
       "tfue             1.315187e-02\n",
       "shroud           8.966053e-03\n",
       "riotgames        5.778028e-03\n",
       "sodapoppin       4.780890e-03\n",
       "                     ...     \n",
       "mrspajder        3.276827e-07\n",
       "mrsonderbar90    3.276827e-07\n",
       "daniel11420      3.276827e-07\n",
       "daniel2810_      3.276827e-07\n",
       "pablishkovtv     3.276827e-07\n",
       "Name: Prop, Length: 162625, dtype: float64"
      ]
     },
     "execution_count": 156,
     "metadata": {},
     "output_type": "execute_result"
    }
   ],
   "source": []
  },
  {
   "cell_type": "code",
   "execution_count": 153,
   "id": "40dcee28",
   "metadata": {},
   "outputs": [
    {
     "data": {
      "text/plain": [
       "162625"
      ]
     },
     "execution_count": 153,
     "metadata": {},
     "output_type": "execute_result"
    }
   ],
   "source": [
    "data.groupby('Streamer').count().sort_values('User_ID', ascending = False)['User_ID'].shape[0]"
   ]
  },
  {
   "cell_type": "code",
   "execution_count": 162,
   "id": "2ff1bc5b",
   "metadata": {},
   "outputs": [
    {
     "data": {
      "text/html": [
       "<div>\n",
       "<style scoped>\n",
       "    .dataframe tbody tr th:only-of-type {\n",
       "        vertical-align: middle;\n",
       "    }\n",
       "\n",
       "    .dataframe tbody tr th {\n",
       "        vertical-align: top;\n",
       "    }\n",
       "\n",
       "    .dataframe thead th {\n",
       "        text-align: right;\n",
       "    }\n",
       "</style>\n",
       "<table border=\"1\" class=\"dataframe\">\n",
       "  <thead>\n",
       "    <tr style=\"text-align: right;\">\n",
       "      <th></th>\n",
       "      <th>Streamer</th>\n",
       "      <th>Prop</th>\n",
       "    </tr>\n",
       "  </thead>\n",
       "  <tbody>\n",
       "  </tbody>\n",
       "</table>\n",
       "</div>"
      ],
      "text/plain": [
       "Empty DataFrame\n",
       "Columns: [Streamer, Prop]\n",
       "Index: []"
      ]
     },
     "execution_count": 162,
     "metadata": {},
     "output_type": "execute_result"
    }
   ],
   "source": [
    "top20 = ranked.reset_index()#.head(100)\n",
    "top20[top20['Streamer'] == 'ishowspeed']"
   ]
  },
  {
   "cell_type": "code",
   "execution_count": 147,
   "id": "3e786c65",
   "metadata": {},
   "outputs": [
    {
     "data": {
      "text/plain": [
       "<AxesSubplot:xlabel='index', ylabel='Prop'>"
      ]
     },
     "execution_count": 147,
     "metadata": {},
     "output_type": "execute_result"
    },
    {
     "data": {
      "image/png": "[encoded data removed]",
      "text/plain": [
       "<Figure size 432x288 with 1 Axes>"
      ]
     },
     "metadata": {
      "needs_background": "light"
     },
     "output_type": "display_data"
    }
   ],
   "source": [
    "sns.lineplot(data = top20, x = 'index', y = 'Prop')"
   ]
  },
  {
   "cell_type": "code",
   "execution_count": null,
   "id": "068f708e",
   "metadata": {},
   "outputs": [],
   "source": []
  }
 ],
 "metadata": {
  "kernelspec": {
   "display_name": "Python 3 (ipykernel)",
   "language": "python",
   "name": "python3"
  },
  "language_info": {
   "codemirror_mode": {
    "name": "ipython",
    "version": 3
   },
   "file_extension": ".py",
   "mimetype": "text/x-python",
   "name": "python",
   "nbconvert_exporter": "python",
   "pygments_lexer": "ipython3",
   "version": "3.9.7"
  }
 },
 "nbformat": 4,
 "nbformat_minor": 5
}
